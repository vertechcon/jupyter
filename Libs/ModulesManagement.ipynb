{
 "cells": [
  {
   "cell_type": "markdown",
   "metadata": {},
   "source": [
    "# Module dependency installation functions"
   ]
  },
  {
   "cell_type": "markdown",
   "metadata": {},
   "source": [
    "The function moduleExists accepts a regex\n",
    "moduleExists(r\"minio.*\") "
   ]
  },
  {
   "cell_type": "code",
   "execution_count": 33,
   "metadata": {},
   "outputs": [],
   "source": [
    "import re\n",
    "import pkg_resources\n",
    "import sys\n",
    "\n",
    "def moduleExists (moduleFilter: str) -> bool:\n",
    "    installed_packages = pkg_resources.working_set\n",
    "    installed_packages_list = sorted([\"%s==%s\" % (i.key, i.version)\n",
    "       for i in installed_packages])\n",
    "    installed_packages_list = list(filter(lambda str: re.match(moduleFilter, str), installed_packages_list))\n",
    "    if installed_packages_list and len(installed_packages_list) > 0:\n",
    "        print(\"Modules found.\")\n",
    "        print(installed_packages_list)\n",
    "        return True\n",
    "    return False"
   ]
  },
  {
   "cell_type": "markdown",
   "metadata": {},
   "source": [
    "The function moduleExists takes both the moduleName and regex\n",
    "moduleExists(\"minio\", r\"minio.*\") "
   ]
  },
  {
   "cell_type": "code",
   "execution_count": 34,
   "metadata": {},
   "outputs": [],
   "source": [
    "def ensureInstalled (moduleName: str, flt: str):\n",
    "    if not moduleExists(flt):\n",
    "        !{sys.executable} -m pip install {moduleName} \n",
    "        print(\"Module installed.\")\n",
    "    else:\n",
    "        print(\"Module already installed.\")\n",
    "        \n",
    "def ensureInstalled_noDeps (moduleName: str, flt: str):\n",
    "    if not moduleExists(flt):\n",
    "        !{sys.executable} -m pip install {moduleName} --no-deps \n",
    "        print(\"Module installed.\")\n",
    "    else:\n",
    "        print(\"Module already installed.\")"
   ]
  },
  {
   "cell_type": "code",
   "execution_count": 35,
   "metadata": {},
   "outputs": [
    {
     "name": "stdout",
     "output_type": "stream",
     "text": [
      "Modules found.\n",
      "['minio==5.0.10']\n",
      "Module already installed.\n"
     ]
    }
   ],
   "source": [
    "#Tests\n",
    "#ensureInstalled(\"minio\", r\"minio.*\")"
   ]
  },
  {
   "cell_type": "code",
   "execution_count": null,
   "metadata": {},
   "outputs": [],
   "source": []
  }
 ],
 "metadata": {
  "kernelspec": {
   "display_name": "Python 3",
   "language": "python",
   "name": "python3"
  },
  "language_info": {
   "codemirror_mode": {
    "name": "ipython",
    "version": 3
   },
   "file_extension": ".py",
   "mimetype": "text/x-python",
   "name": "python",
   "nbconvert_exporter": "python",
   "pygments_lexer": "ipython3",
   "version": "3.7.3"
  }
 },
 "nbformat": 4,
 "nbformat_minor": 4
}
