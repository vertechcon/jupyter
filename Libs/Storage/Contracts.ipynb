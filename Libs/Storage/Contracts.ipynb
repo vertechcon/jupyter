{
 "cells": [
  {
   "cell_type": "code",
   "execution_count": null,
   "metadata": {},
   "outputs": [],
   "source": [
    "class folder_info:\n",
    "    def __init__(self, bucket_name, folder_name, modified, etag):\n",
    "        self.bucket_name = bucket_name\n",
    "        self.folder_name = folder_name\n",
    "        self.modified = modified\n",
    "        self.etag = etag\n",
    "    def __repr__(self):\n",
    "        return self.bucket_name + '|' + self.folder_name \n",
    "    \n",
    "class file_info:\n",
    "    def __init__(self, bucket_name, folder_name, modified, etag, size):\n",
    "        self.bucket_name = bucket_name\n",
    "        self.folder_name = folder_name\n",
    "        self.modified = modified\n",
    "        self.etag = etag\n",
    "        self.size = size\n",
    "    def __repr__(self):\n",
    "        return self.bucket_name + '|' + self.folder_name + '|' + sizeof_fmt(self.size)"
   ]
  }
 ],
 "metadata": {
  "kernelspec": {
   "display_name": "Python 3",
   "language": "python",
   "name": "python3"
  },
  "language_info": {
   "codemirror_mode": {
    "name": "ipython",
    "version": 3
   },
   "file_extension": ".py",
   "mimetype": "text/x-python",
   "name": "python",
   "nbconvert_exporter": "python",
   "pygments_lexer": "ipython3",
   "version": "3.7.3"
  }
 },
 "nbformat": 4,
 "nbformat_minor": 4
}
