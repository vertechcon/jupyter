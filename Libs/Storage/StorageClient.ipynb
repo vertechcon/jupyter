{
 "cells": [
  {
   "cell_type": "markdown",
   "metadata": {},
   "source": [
    "# Abstraction layer to access storage"
   ]
  },
  {
   "cell_type": "markdown",
   "metadata": {},
   "source": [
    "Only Minio storage is enabled at the moment, new storage providers could be added on a need to need basis i.e. azure, nfs, hdfs\n",
    "The approach to storage should follow basic principles of buckets:\n",
    "- Buckets are the main container in wich folders and files are uploaded (for nfs that would be the first level folders)\n",
    "- Buckets should hold uac, this is not implemented at the moment\n",
    "- From buckets can be created or listed folders and files"
   ]
  },
  {
   "cell_type": "code",
   "execution_count": 1,
   "metadata": {},
   "outputs": [
    {
     "name": "stdout",
     "output_type": "stream",
     "text": [
      "Appending finder\n"
     ]
    }
   ],
   "source": [
    "jr_path = str(os.environ[\"JUPYTER_ROOT\"] + \"/importer.py\")\n",
    "%run $jr_path"
   ]
  },
  {
   "cell_type": "markdown",
   "metadata": {},
   "source": [
    "Import used contracts "
   ]
  },
  {
   "cell_type": "code",
   "execution_count": 2,
   "metadata": {},
   "outputs": [
    {
     "name": "stdout",
     "output_type": "stream",
     "text": [
      "Libs.Storage.Contracts\n",
      "['/jupyter/Libs/Storage']\n",
      "after split: Contracts\n",
      "path: \n",
      "['/jupyter/Libs/Storage']\n",
      "/jupyter/Libs/Storage/Contracts.ipynb\n",
      "after split: Contracts\n",
      "path: \n",
      "['/jupyter/Libs/Storage']\n",
      "/jupyter/Libs/Storage/Contracts.ipynb\n",
      "importing Jupyter notebook from /jupyter/Libs/Storage/Contracts.ipynb\n"
     ]
    }
   ],
   "source": [
    "from Libs.Storage.Contracts import (folder_info, file_info)"
   ]
  },
  {
   "cell_type": "markdown",
   "metadata": {},
   "source": [
    "This is the meta class, it validated that the implementations follow the proper shape. Type checking is done here."
   ]
  },
  {
   "cell_type": "code",
   "execution_count": 3,
   "metadata": {},
   "outputs": [],
   "source": [
    "class ClientMeta(type):\n",
    "    \"\"\"A Parser metaclass that will be used for parser class creation.\n",
    "    \"\"\"\n",
    "    def __instancecheck__(cls, instance):\n",
    "        return cls.__subclasscheck__(type(instance))\n",
    "\n",
    "    def __subclasscheck__(cls, subclass):\n",
    "        return (hasattr(subclass, 'authenticate') and \n",
    "                callable(subclass.authenticate) and\n",
    "                hasattr(subclass, 'list_buckets') and \n",
    "                callable(subclass.list_buckets) and\n",
    "                hasattr(subclass, 'create_bucket') and \n",
    "                callable(subclass.create_bucket) and\n",
    "                hasattr(subclass, 'remove_bucket') and \n",
    "                callable(subclass.remove_bucket) and\n",
    "                hasattr(subclass, 'list_folders') and \n",
    "                callable(subclass.list_folders) and\n",
    "                hasattr(subclass, 'list_files') and \n",
    "                callable(subclass.list_files) and\n",
    "                hasattr(subclass, 'get_content') and \n",
    "                callable(subclass.get_content) and\n",
    "                hasattr(subclass, 'set_content') and \n",
    "                callable(subclass.set_content) and\n",
    "                hasattr(subclass, 'remove_content') and \n",
    "                callable(subclass.remove_content))"
   ]
  },
  {
   "cell_type": "markdown",
   "metadata": {},
   "source": [
    "The interface implements the meta class rules, is doesn't display methods but this is what should be inherited by implementations."
   ]
  },
  {
   "cell_type": "code",
   "execution_count": 4,
   "metadata": {},
   "outputs": [],
   "source": [
    "class StorageClientInterface(metaclass=ClientMeta):\n",
    "    pass"
   ]
  },
  {
   "cell_type": "markdown",
   "metadata": {},
   "source": [
    "The ClientType enum defines the types of providers that are supported. If there is a need for a new type, it should be added in the enum so that it can be managed by the libraries."
   ]
  },
  {
   "cell_type": "code",
   "execution_count": 8,
   "metadata": {},
   "outputs": [],
   "source": [
    "from enum import Enum\n",
    "class ClientType(Enum):\n",
    "    Default=0\n",
    "    Minio=1"
   ]
  },
  {
   "cell_type": "markdown",
   "metadata": {},
   "source": [
    "The libraries are imported to be used by the factory method. Providers should be validated against the interface in order to make sure they follow the interface model."
   ]
  },
  {
   "cell_type": "code",
   "execution_count": 15,
   "metadata": {},
   "outputs": [],
   "source": [
    "from Libs.Storage.MinioProvider import (minio_client)\n",
    "if not issubclass(minio_client, StorageClientInterface):\n",
    "    raise Exception(\"minio_client should implement StorageClientInterface\")"
   ]
  },
  {
   "cell_type": "markdown",
   "metadata": {},
   "source": [
    "To create a new storage client, call the factory method with the proper provider. If the wrong value is passed, an exception will be thrown. ex:\n",
    "`cli = create_client(ClientType.Default)`"
   ]
  },
  {
   "cell_type": "code",
   "execution_count": 11,
   "metadata": {},
   "outputs": [],
   "source": [
    "def raise_(ex):\n",
    "    raise ex\n",
    "\n",
    "def create_client(ctype: ClientType = ClientType.Default):\n",
    "    switcher = {\n",
    "        ClientType.Default: lambda : minio_client(),\n",
    "        ClientType.Minio: lambda : minio_client()\n",
    "    }\n",
    "    \n",
    "    factory = switcher.get(ctype, lambda: raise_(Exception(\"Wrong ClientType Selected\")))\n",
    "    return factory()\n"
   ]
  },
  {
   "cell_type": "code",
   "execution_count": 14,
   "metadata": {},
   "outputs": [],
   "source": [
    "#cli = create_client(ClientType.Default)"
   ]
  },
  {
   "cell_type": "code",
   "execution_count": null,
   "metadata": {},
   "outputs": [],
   "source": []
  }
 ],
 "metadata": {
  "kernelspec": {
   "display_name": "Python 3",
   "language": "python",
   "name": "python3"
  },
  "language_info": {
   "codemirror_mode": {
    "name": "ipython",
    "version": 3
   },
   "file_extension": ".py",
   "mimetype": "text/x-python",
   "name": "python",
   "nbconvert_exporter": "python",
   "pygments_lexer": "ipython3",
   "version": "3.7.3"
  }
 },
 "nbformat": 4,
 "nbformat_minor": 4
}
