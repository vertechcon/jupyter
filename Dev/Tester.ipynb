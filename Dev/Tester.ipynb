{
 "cells": [
  {
   "cell_type": "code",
   "execution_count": 2,
   "metadata": {},
   "outputs": [],
   "source": [
    "%run /jupyter/importer.py"
   ]
  },
  {
   "cell_type": "code",
   "execution_count": 4,
   "metadata": {},
   "outputs": [
    {
     "name": "stdout",
     "output_type": "stream",
     "text": [
      "blah\n"
     ]
    }
   ],
   "source": [
    "from Libs import modo_jup\n",
    "\n",
    "modo_jup.test()"
   ]
  },
  {
   "cell_type": "code",
   "execution_count": 5,
   "metadata": {},
   "outputs": [
    {
     "name": "stdout",
     "output_type": "stream",
     "text": [
      "Libs.Storage.MinioProvider\n",
      "['/jupyter/Libs/Storage']\n",
      "after split: MinioProvider\n",
      "path: \n",
      "['/jupyter/Libs/Storage']\n",
      "/jupyter/Libs/Storage/MinioProvider.ipynb\n",
      "after split: MinioProvider\n",
      "path: \n",
      "['/jupyter/Libs/Storage']\n",
      "/jupyter/Libs/Storage/MinioProvider.ipynb\n",
      "importing Jupyter notebook from /jupyter/Libs/Storage/MinioProvider.ipynb\n",
      "Libs.ModulesManagement\n",
      "['/jupyter/Libs']\n",
      "after split: ModulesManagement\n",
      "path: \n",
      "['/jupyter/Libs']\n",
      "/jupyter/Libs/ModulesManagement.ipynb\n",
      "after split: ModulesManagement\n",
      "path: \n",
      "['/jupyter/Libs']\n",
      "/jupyter/Libs/ModulesManagement.ipynb\n",
      "importing Jupyter notebook from /jupyter/Libs/ModulesManagement.ipynb\n",
      "Modules found.\n",
      "['minio==5.0.10']\n",
      "Module already installed.\n",
      "Config\n",
      "None\n",
      "after split: Config\n",
      "path: \n",
      "['/jupyter']\n",
      "/jupyter/Config.ipynb\n",
      "after split: Config\n",
      "path: \n",
      "['/jupyter']\n",
      "/jupyter/Config.ipynb\n",
      "importing Jupyter notebook from /jupyter/Config.ipynb\n",
      "Libs.Storage.Contracts\n",
      "['/jupyter/Libs/Storage']\n",
      "after split: Contracts\n",
      "path: \n",
      "['/jupyter/Libs/Storage']\n",
      "/jupyter/Libs/Storage/Contracts.ipynb\n",
      "after split: Contracts\n",
      "path: \n",
      "['/jupyter/Libs/Storage']\n",
      "/jupyter/Libs/Storage/Contracts.ipynb\n",
      "importing Jupyter notebook from /jupyter/Libs/Storage/Contracts.ipynb\n",
      "Libs.file_utils\n",
      "['/jupyter/Libs']\n",
      "after split: file_utils\n",
      "path: \n",
      "['/jupyter/Libs']\n",
      "/jupyter/Libs/file_utils.ipynb\n",
      "after split: file_utils\n",
      "path: \n",
      "['/jupyter/Libs']\n",
      "/jupyter/Libs/file_utils.ipynb\n",
      "importing Jupyter notebook from /jupyter/Libs/file_utils.ipynb\n"
     ]
    }
   ],
   "source": [
    "from Libs.Storage import MinioProvider"
   ]
  },
  {
   "cell_type": "code",
   "execution_count": 7,
   "metadata": {},
   "outputs": [
    {
     "data": {
      "text/plain": [
       "Libs.Storage.MinioProvider.minioClient"
      ]
     },
     "execution_count": 7,
     "metadata": {},
     "output_type": "execute_result"
    }
   ],
   "source": []
  },
  {
   "cell_type": "code",
   "execution_count": null,
   "metadata": {},
   "outputs": [],
   "source": []
  }
 ],
 "metadata": {
  "kernelspec": {
   "display_name": "Python 3",
   "language": "python",
   "name": "python3"
  },
  "language_info": {
   "codemirror_mode": {
    "name": "ipython",
    "version": 3
   },
   "file_extension": ".py",
   "mimetype": "text/x-python",
   "name": "python",
   "nbconvert_exporter": "python",
   "pygments_lexer": "ipython3",
   "version": "3.7.3"
  }
 },
 "nbformat": 4,
 "nbformat_minor": 4
}
