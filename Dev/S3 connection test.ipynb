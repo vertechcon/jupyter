{
 "cells": [
  {
   "cell_type": "markdown",
   "metadata": {},
   "source": [
    "# S3 Connection and and test operations"
   ]
  },
  {
   "cell_type": "markdown",
   "metadata": {},
   "source": [
    "[Website for documentation](https://docs.min.io/docs/python-client-api-reference.html) \n"
   ]
  },
  {
   "cell_type": "code",
   "execution_count": 1,
   "metadata": {},
   "outputs": [
    {
     "name": "stdout",
     "output_type": "stream",
     "text": [
      "/jupyter\n",
      "Appending finder\n"
     ]
    }
   ],
   "source": [
    "jr_path = str(os.environ[\"JUPYTER_ROOT\"] + \"/importer.py\")\n",
    "%run $jr_path"
   ]
  },
  {
   "cell_type": "code",
   "execution_count": 2,
   "metadata": {},
   "outputs": [
    {
     "name": "stdout",
     "output_type": "stream",
     "text": [
      "Libs.Storage.StorageClient\n",
      "['/jupyter/Libs/Storage']\n",
      "after split: StorageClient\n",
      "path: \n",
      "['/jupyter/Libs/Storage']\n",
      "/jupyter/Libs/Storage/StorageClient.ipynb\n",
      "after split: StorageClient\n",
      "path: \n",
      "['/jupyter/Libs/Storage']\n",
      "/jupyter/Libs/Storage/StorageClient.ipynb\n",
      "importing Jupyter notebook from /jupyter/Libs/Storage/StorageClient.ipynb\n",
      "/jupyter\n",
      "Libs.Storage.Contracts\n",
      "['/jupyter/Libs/Storage']\n",
      "after split: Contracts\n",
      "path: \n",
      "['/jupyter/Libs/Storage']\n",
      "/jupyter/Libs/Storage/Contracts.ipynb\n",
      "after split: Contracts\n",
      "path: \n",
      "['/jupyter/Libs/Storage']\n",
      "/jupyter/Libs/Storage/Contracts.ipynb\n",
      "importing Jupyter notebook from /jupyter/Libs/Storage/Contracts.ipynb\n",
      "Libs.Storage.MinioProvider\n",
      "['/jupyter/Libs/Storage']\n",
      "after split: MinioProvider\n",
      "path: \n",
      "['/jupyter/Libs/Storage']\n",
      "/jupyter/Libs/Storage/MinioProvider.ipynb\n",
      "after split: MinioProvider\n",
      "path: \n",
      "['/jupyter/Libs/Storage']\n",
      "/jupyter/Libs/Storage/MinioProvider.ipynb\n",
      "importing Jupyter notebook from /jupyter/Libs/Storage/MinioProvider.ipynb\n",
      "/jupyter\n",
      "Libs.ModulesManagement\n",
      "['/jupyter/Libs']\n",
      "after split: ModulesManagement\n",
      "path: \n",
      "['/jupyter/Libs']\n",
      "/jupyter/Libs/ModulesManagement.ipynb\n",
      "after split: ModulesManagement\n",
      "path: \n",
      "['/jupyter/Libs']\n",
      "/jupyter/Libs/ModulesManagement.ipynb\n",
      "importing Jupyter notebook from /jupyter/Libs/ModulesManagement.ipynb\n",
      "Modules found.\n",
      "['minio==5.0.10']\n",
      "Module already installed.\n",
      "Config\n",
      "None\n",
      "after split: Config\n",
      "path: \n",
      "['/jupyter']\n",
      "/jupyter/Config.ipynb\n",
      "after split: Config\n",
      "path: \n",
      "['/jupyter']\n",
      "/jupyter/Config.ipynb\n",
      "importing Jupyter notebook from /jupyter/Config.ipynb\n",
      "/jupyter\n",
      "Modules found.\n",
      "['pyyaml==3.13']\n",
      "Module already installed.\n",
      "Libs.file_utils\n",
      "['/jupyter/Libs']\n",
      "after split: file_utils\n",
      "path: \n",
      "['/jupyter/Libs']\n",
      "/jupyter/Libs/file_utils.ipynb\n",
      "after split: file_utils\n",
      "path: \n",
      "['/jupyter/Libs']\n",
      "/jupyter/Libs/file_utils.ipynb\n",
      "importing Jupyter notebook from /jupyter/Libs/file_utils.ipynb\n"
     ]
    }
   ],
   "source": [
    "from Libs.Storage import StorageClient"
   ]
  },
  {
   "cell_type": "code",
   "execution_count": 3,
   "metadata": {},
   "outputs": [],
   "source": [
    "client = StorageClient.create_client(ctype=StorageClient.ClientType.Minio)"
   ]
  },
  {
   "cell_type": "code",
   "execution_count": 5,
   "metadata": {},
   "outputs": [],
   "source": [
    "client.authenticate()"
   ]
  },
  {
   "cell_type": "code",
   "execution_count": 6,
   "metadata": {},
   "outputs": [
    {
     "data": {
      "text/plain": [
       "[<minio.definitions.Bucket at 0x7f1ab73c0be0>,\n",
       " <minio.definitions.Bucket at 0x7f1ab73c0c18>]"
      ]
     },
     "execution_count": 6,
     "metadata": {},
     "output_type": "execute_result"
    }
   ],
   "source": [
    "client.list_buckets()"
   ]
  },
  {
   "cell_type": "code",
   "execution_count": null,
   "metadata": {},
   "outputs": [],
   "source": []
  }
 ],
 "metadata": {
  "kernelspec": {
   "display_name": "Python 3",
   "language": "python",
   "name": "python3"
  },
  "language_info": {
   "codemirror_mode": {
    "name": "ipython",
    "version": 3
   },
   "file_extension": ".py",
   "mimetype": "text/x-python",
   "name": "python",
   "nbconvert_exporter": "python",
   "pygments_lexer": "ipython3",
   "version": "3.7.3"
  }
 },
 "nbformat": 4,
 "nbformat_minor": 4
}
