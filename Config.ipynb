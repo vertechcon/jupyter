{
 "cells": [
  {
   "cell_type": "markdown",
   "metadata": {},
   "source": [
    "# Main system configurations "
   ]
  },
  {
   "cell_type": "markdown",
   "metadata": {},
   "source": [
    "All values should be defined here and optionally overridden by environment variables / kubernetes secrets"
   ]
  },
  {
   "cell_type": "code",
   "execution_count": 7,
   "metadata": {},
   "outputs": [],
   "source": [
    "jr_path = str(os.environ[\"JUPYTER_ROOT\"] + \"/importer.py\")\n",
    "%run $jr_path"
   ]
  },
  {
   "cell_type": "code",
   "execution_count": 8,
   "metadata": {},
   "outputs": [
    {
     "name": "stdout",
     "output_type": "stream",
     "text": [
      "Modules found.\n",
      "['pyyaml==3.13']\n",
      "Module already installed.\n"
     ]
    }
   ],
   "source": [
    "from Libs import ModulesManagement\n",
    "ModulesManagement.ensureInstalled(\"pyyaml\", r\"pyyaml.*\")"
   ]
  },
  {
   "cell_type": "code",
   "execution_count": 6,
   "metadata": {},
   "outputs": [],
   "source": [
    "import yaml\n",
    "class minioCfg:\n",
    "    def __init__(self):\n",
    "        cfg = yaml.load(open(\"/vault/secrets/jupyter\").read())\n",
    "        self.url = cfg.get(\"minio_url\")\n",
    "        self.access_key = cfg.get(\"minio_access_key\")\n",
    "        self.secret_key = cfg.get(\"minio_secret_key\")\n",
    "        self.secure = cfg.get(\"minio_secure\")"
   ]
  },
  {
   "cell_type": "code",
   "execution_count": null,
   "metadata": {},
   "outputs": [],
   "source": []
  }
 ],
 "metadata": {
  "kernelspec": {
   "display_name": "Python 3",
   "language": "python",
   "name": "python3"
  },
  "language_info": {
   "codemirror_mode": {
    "name": "ipython",
    "version": 3
   },
   "file_extension": ".py",
   "mimetype": "text/x-python",
   "name": "python",
   "nbconvert_exporter": "python",
   "pygments_lexer": "ipython3",
   "version": "3.7.3"
  }
 },
 "nbformat": 4,
 "nbformat_minor": 4
}
